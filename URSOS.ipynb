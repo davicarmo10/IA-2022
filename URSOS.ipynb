{
 "cells": [
  {
   "cell_type": "code",
   "execution_count": 11,
   "metadata": {},
   "outputs": [
    {
     "name": "stderr",
     "output_type": "stream",
     "text": [
      "ERROR: pip's dependency resolver does not currently take into account all the packages that are installed. This behaviour is the source of the following dependency conflicts.\n",
      "spyder 5.1.5 requires pyqt5<5.13, which is not installed.\n",
      "spyder 5.1.5 requires pyqtwebengine<5.13, which is not installed.\n",
      "voila 0.3.1 requires nbconvert<7,>=6.0.0, but you have nbconvert 5.6.1 which is incompatible.\n"
     ]
    }
   ],
   "source": [
    "#hide\n",
    "!pip install -Uqq fastbook\n",
    "\n",
    "import fastbook\n",
    "fastbook.setup_book()"
   ]
  },
  {
   "cell_type": "code",
   "execution_count": 12,
   "metadata": {},
   "outputs": [],
   "source": [
    "#hide\n",
    "from fastbook import *\n",
    "from fastai.vision.widgets import *"
   ]
  },
  {
   "cell_type": "code",
   "execution_count": 5,
   "metadata": {},
   "outputs": [
    {
     "name": "stdout",
     "output_type": "stream",
     "text": [
      "Requirement already satisfied: voila in c:\\users\\davi\\anaconda3\\lib\\site-packages (0.3.1)\n",
      "Requirement already satisfied: nbclient<0.6,>=0.4.0 in c:\\users\\davi\\anaconda3\\lib\\site-packages (from voila) (0.5.3)\n",
      "Requirement already satisfied: jupyter-client<8,>=6.1.3 in c:\\users\\davi\\anaconda3\\lib\\site-packages (from voila) (6.1.12)\n",
      "Requirement already satisfied: jupyter-server<2.0.0,>=0.3.0 in c:\\users\\davi\\anaconda3\\lib\\site-packages (from voila) (1.4.1)\n",
      "Collecting nbconvert<7,>=6.0.0\n",
      "  Using cached nbconvert-6.4.2-py3-none-any.whl (558 kB)\n",
      "Requirement already satisfied: websockets>=9.0 in c:\\users\\davi\\anaconda3\\lib\\site-packages (from voila) (10.1)\n",
      "Requirement already satisfied: traitlets<6,>=5.0.3 in c:\\users\\davi\\anaconda3\\lib\\site-packages (from voila) (5.1.0)\n",
      "Requirement already satisfied: pyzmq>=13 in c:\\users\\davi\\anaconda3\\lib\\site-packages (from jupyter-client<8,>=6.1.3->voila) (22.2.1)\n",
      "Requirement already satisfied: jupyter-core>=4.6.0 in c:\\users\\davi\\anaconda3\\lib\\site-packages (from jupyter-client<8,>=6.1.3->voila) (4.8.1)\n",
      "Requirement already satisfied: tornado>=4.1 in c:\\users\\davi\\anaconda3\\lib\\site-packages (from jupyter-client<8,>=6.1.3->voila) (6.1)\n",
      "Requirement already satisfied: python-dateutil>=2.1 in c:\\users\\davi\\anaconda3\\lib\\site-packages (from jupyter-client<8,>=6.1.3->voila) (2.8.2)\n",
      "Requirement already satisfied: pywin32>=1.0 in c:\\users\\davi\\anaconda3\\lib\\site-packages (from jupyter-core>=4.6.0->jupyter-client<8,>=6.1.3->voila) (228)\n",
      "Requirement already satisfied: jinja2 in c:\\users\\davi\\anaconda3\\lib\\site-packages (from jupyter-server<2.0.0,>=0.3.0->voila) (2.11.3)\n",
      "Requirement already satisfied: anyio>=2.0.2 in c:\\users\\davi\\anaconda3\\lib\\site-packages (from jupyter-server<2.0.0,>=0.3.0->voila) (2.2.0)\n",
      "Requirement already satisfied: prometheus-client in c:\\users\\davi\\anaconda3\\lib\\site-packages (from jupyter-server<2.0.0,>=0.3.0->voila) (0.11.0)\n",
      "Requirement already satisfied: ipython-genutils in c:\\users\\davi\\anaconda3\\lib\\site-packages (from jupyter-server<2.0.0,>=0.3.0->voila) (0.2.0)\n",
      "Requirement already satisfied: terminado>=0.8.3 in c:\\users\\davi\\anaconda3\\lib\\site-packages (from jupyter-server<2.0.0,>=0.3.0->voila) (0.9.4)\n",
      "Requirement already satisfied: Send2Trash in c:\\users\\davi\\anaconda3\\lib\\site-packages (from jupyter-server<2.0.0,>=0.3.0->voila) (1.8.0)\n",
      "Requirement already satisfied: nbformat in c:\\users\\davi\\anaconda3\\lib\\site-packages (from jupyter-server<2.0.0,>=0.3.0->voila) (5.1.3)\n",
      "Requirement already satisfied: sniffio>=1.1 in c:\\users\\davi\\anaconda3\\lib\\site-packages (from anyio>=2.0.2->jupyter-server<2.0.0,>=0.3.0->voila) (1.2.0)\n",
      "Requirement already satisfied: idna>=2.8 in c:\\users\\davi\\anaconda3\\lib\\site-packages (from anyio>=2.0.2->jupyter-server<2.0.0,>=0.3.0->voila) (3.2)\n",
      "Requirement already satisfied: nest-asyncio in c:\\users\\davi\\anaconda3\\lib\\site-packages (from nbclient<0.6,>=0.4.0->voila) (1.5.1)\n",
      "Requirement already satisfied: async-generator in c:\\users\\davi\\anaconda3\\lib\\site-packages (from nbclient<0.6,>=0.4.0->voila) (1.10)\n",
      "Requirement already satisfied: testpath in c:\\users\\davi\\anaconda3\\lib\\site-packages (from nbconvert<7,>=6.0.0->voila) (0.5.0)\n",
      "Requirement already satisfied: defusedxml in c:\\users\\davi\\anaconda3\\lib\\site-packages (from nbconvert<7,>=6.0.0->voila) (0.7.1)\n",
      "Requirement already satisfied: pygments>=2.4.1 in c:\\users\\davi\\anaconda3\\lib\\site-packages (from nbconvert<7,>=6.0.0->voila) (2.10.0)\n",
      "Requirement already satisfied: bleach in c:\\users\\davi\\anaconda3\\lib\\site-packages (from nbconvert<7,>=6.0.0->voila) (4.0.0)\n",
      "Requirement already satisfied: pandocfilters>=1.4.1 in c:\\users\\davi\\anaconda3\\lib\\site-packages (from nbconvert<7,>=6.0.0->voila) (1.4.3)\n",
      "Requirement already satisfied: jupyterlab-pygments in c:\\users\\davi\\anaconda3\\lib\\site-packages (from nbconvert<7,>=6.0.0->voila) (0.1.2)\n",
      "Requirement already satisfied: entrypoints>=0.2.2 in c:\\users\\davi\\anaconda3\\lib\\site-packages (from nbconvert<7,>=6.0.0->voila) (0.3)\n",
      "Requirement already satisfied: mistune<2,>=0.8.1 in c:\\users\\davi\\anaconda3\\lib\\site-packages (from nbconvert<7,>=6.0.0->voila) (0.8.4)\n",
      "Requirement already satisfied: MarkupSafe>=0.23 in c:\\users\\davi\\anaconda3\\lib\\site-packages (from jinja2->jupyter-server<2.0.0,>=0.3.0->voila) (1.1.1)\n",
      "Requirement already satisfied: jsonschema!=2.5.0,>=2.4 in c:\\users\\davi\\anaconda3\\lib\\site-packages (from nbformat->jupyter-server<2.0.0,>=0.3.0->voila) (3.2.0)\n",
      "Requirement already satisfied: setuptools in c:\\users\\davi\\anaconda3\\lib\\site-packages (from jsonschema!=2.5.0,>=2.4->nbformat->jupyter-server<2.0.0,>=0.3.0->voila) (58.0.4)\n",
      "Requirement already satisfied: attrs>=17.4.0 in c:\\users\\davi\\anaconda3\\lib\\site-packages (from jsonschema!=2.5.0,>=2.4->nbformat->jupyter-server<2.0.0,>=0.3.0->voila) (21.2.0)\n",
      "Requirement already satisfied: six>=1.11.0 in c:\\users\\davi\\anaconda3\\lib\\site-packages (from jsonschema!=2.5.0,>=2.4->nbformat->jupyter-server<2.0.0,>=0.3.0->voila) (1.16.0)\n",
      "Requirement already satisfied: pyrsistent>=0.14.0 in c:\\users\\davi\\anaconda3\\lib\\site-packages (from jsonschema!=2.5.0,>=2.4->nbformat->jupyter-server<2.0.0,>=0.3.0->voila) (0.18.0)\n",
      "Requirement already satisfied: pywinpty>=0.5 in c:\\users\\davi\\anaconda3\\lib\\site-packages (from terminado>=0.8.3->jupyter-server<2.0.0,>=0.3.0->voila) (0.5.7)\n",
      "Requirement already satisfied: packaging in c:\\users\\davi\\anaconda3\\lib\\site-packages (from bleach->nbconvert<7,>=6.0.0->voila) (21.0)\n",
      "Requirement already satisfied: webencodings in c:\\users\\davi\\anaconda3\\lib\\site-packages (from bleach->nbconvert<7,>=6.0.0->voila) (0.5.1)\n",
      "Requirement already satisfied: pyparsing>=2.0.2 in c:\\users\\davi\\anaconda3\\lib\\site-packages (from packaging->bleach->nbconvert<7,>=6.0.0->voila) (3.0.4)\n",
      "Installing collected packages: nbconvert"
     ]
    },
    {
     "name": "stderr",
     "output_type": "stream",
     "text": [
      "ERROR: pip's dependency resolver does not currently take into account all the packages that are installed. This behaviour is the source of the following dependency conflicts.\n",
      "spyder 5.1.5 requires pyqt5<5.13, which is not installed.\n",
      "spyder 5.1.5 requires pyqtwebengine<5.13, which is not installed.\n",
      "nbdev 1.1.23 requires nbconvert<6, but you have nbconvert 6.4.2 which is incompatible.\n"
     ]
    },
    {
     "name": "stdout",
     "output_type": "stream",
     "text": [
      "\n",
      "  Attempting uninstall: nbconvert\n",
      "    Found existing installation: nbconvert 5.6.1\n",
      "    Uninstalling nbconvert-5.6.1:\n",
      "      Successfully uninstalled nbconvert-5.6.1\n",
      "Successfully installed nbconvert-6.4.2\n"
     ]
    },
    {
     "name": "stderr",
     "output_type": "stream",
     "text": [
      "Enabling: voila\n",
      "- Writing config: C:\\Users\\Davi\\anaconda3\\etc\\jupyter\n",
      "    - Validating...\n",
      "      voila 0.3.1 ok\n"
     ]
    }
   ],
   "source": [
    "#hide\n",
    "!pip install voila\n",
    "!jupyter serverextension enable --sys-prefix voila"
   ]
  },
  {
   "cell_type": "code",
   "execution_count": 13,
   "metadata": {},
   "outputs": [],
   "source": [
    "path = Path()\n",
    "learn_inf = load_learner(path/'export.pkl', cpu=True)\n",
    "btn_upload = widgets.FileUpload()\n",
    "out_pl = widgets.Output()\n",
    "lbl_pred = widgets.Label()"
   ]
  },
  {
   "cell_type": "code",
   "execution_count": 14,
   "metadata": {},
   "outputs": [],
   "source": [
    "# test def on_click_classify(change):\n",
    "def on_click(change):\n",
    "    img = PILImage.create(btn_upload.data[-1])\n",
    "    out_pl.clear_output()\n",
    "    with out_pl: display(img.to_thumb(128,128))\n",
    "    pred,pred_idx,probs = learn_inf.predict(img)\n",
    "    lbl_pred.value = f'Predição: {pred}; Probabilidade: {probs[pred_idx]:.04f}'"
   ]
  },
  {
   "cell_type": "code",
   "execution_count": 15,
   "metadata": {},
   "outputs": [],
   "source": [
    "#hide\n",
    "#Putting back btn_upload to a widget for next cell\n",
    "# test btn_upload = widgets.FileUpload()"
   ]
  },
  {
   "cell_type": "code",
   "execution_count": 16,
   "metadata": {},
   "outputs": [],
   "source": [
    "btn_upload.observe(on_click, names=['data'])"
   ]
  },
  {
   "cell_type": "code",
   "execution_count": 17,
   "metadata": {},
   "outputs": [
    {
     "data": {
      "application/vnd.jupyter.widget-view+json": {
       "model_id": "742a0abd41b74edea4ad739190642dbe",
       "version_major": 2,
       "version_minor": 0
      },
      "text/plain": [
       "VBox(children=(Label(value='Selecione seu urso!'), FileUpload(value={}, description='Upload'), Output(), Label…"
      ]
     },
     "metadata": {},
     "output_type": "display_data"
    },
    {
     "data": {
      "text/html": [],
      "text/plain": [
       "<IPython.core.display.HTML object>"
      ]
     },
     "metadata": {},
     "output_type": "display_data"
    },
    {
     "data": {
      "text/html": [],
      "text/plain": [
       "<IPython.core.display.HTML object>"
      ]
     },
     "metadata": {},
     "output_type": "display_data"
    },
    {
     "data": {
      "text/html": [],
      "text/plain": [
       "<IPython.core.display.HTML object>"
      ]
     },
     "metadata": {},
     "output_type": "display_data"
    },
    {
     "data": {
      "text/html": [],
      "text/plain": [
       "<IPython.core.display.HTML object>"
      ]
     },
     "metadata": {},
     "output_type": "display_data"
    },
    {
     "data": {
      "text/html": [],
      "text/plain": [
       "<IPython.core.display.HTML object>"
      ]
     },
     "metadata": {},
     "output_type": "display_data"
    },
    {
     "data": {
      "text/html": [],
      "text/plain": [
       "<IPython.core.display.HTML object>"
      ]
     },
     "metadata": {},
     "output_type": "display_data"
    },
    {
     "data": {
      "text/html": [],
      "text/plain": [
       "<IPython.core.display.HTML object>"
      ]
     },
     "metadata": {},
     "output_type": "display_data"
    }
   ],
   "source": [
    "#hide_output\n",
    "display(VBox([widgets.Label('Selecione seu urso!'), \n",
    "      btn_upload, out_pl, lbl_pred]))\n",
    "#but_run"
   ]
  },
  {
   "cell_type": "markdown",
   "metadata": {},
   "source": [
    "VBox(children=(Label(value='Selecione seu urso!'), FileUpload(value={}, description='Upload'), Output(), Label…"
   ]
  }
 ],
 "metadata": {
  "jupytext": {
   "split_at_heading": true
  },
  "kernelspec": {
   "display_name": "Python 3 (ipykernel)",
   "language": "python",
   "name": "python3"
  },
  "language_info": {
   "codemirror_mode": {
    "name": "ipython",
    "version": 3
   },
   "file_extension": ".py",
   "mimetype": "text/x-python",
   "name": "python",
   "nbconvert_exporter": "python",
   "pygments_lexer": "ipython3",
   "version": "3.9.7"
  }
 },
 "nbformat": 4,
 "nbformat_minor": 4
}
